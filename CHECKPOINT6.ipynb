{
 "cells": [
  {
   "cell_type": "code",
   "execution_count": 22,
   "id": "31a6aa28",
   "metadata": {},
   "outputs": [
    {
     "name": "stdout",
     "output_type": "stream",
     "text": [
      "[[1, 2, 3], [4, 5, 6], [7, 8, 9]]\n"
     ]
    }
   ],
   "source": [
    "#1\n",
    "import numpy as np\n",
    "Array=np.array([[1,2,3],[4,5,6],[7,8,9]])\n",
    "Array1=Array.tolist()\n",
    "print(Array1)"
   ]
  },
  {
   "cell_type": "code",
   "execution_count": 24,
   "id": "e3ff3779",
   "metadata": {},
   "outputs": [
    {
     "name": "stdout",
     "output_type": "stream",
     "text": [
      "[[1 2 3]\n",
      " [4 5 6]\n",
      " [7 8 9]]\n",
      "15\n"
     ]
    }
   ],
   "source": [
    "#2\n",
    "import numpy as np\n",
    "A=np.array([[1,2,3],[4,5,6],[7,8,9]])\n",
    "print(A)\n",
    "print(A.trace())\n",
    "A=A.tolist()"
   ]
  },
  {
   "cell_type": "code",
   "execution_count": 15,
   "id": "14fbf903",
   "metadata": {},
   "outputs": [
    {
     "name": "stdout",
     "output_type": "stream",
     "text": [
      "cn5\n",
      "[8, 6, 7]\n"
     ]
    }
   ],
   "source": [
    "#3\n",
    "import numpy as np\n",
    "a =np.random.randint(0, 9, size=(5,5))\n",
    "b=[]\n",
    "x=int(input(\"cn\"))\n",
    "for i in a[0]:\n",
    "    if i>x:\n",
    "        b.append(i)\n",
    "for i in a[1]:\n",
    "    if i>x:\n",
    "        b.append(i)\n",
    "b=set(b)\n",
    "b=list(b)\n",
    "print(b)"
   ]
  },
  {
   "cell_type": "code",
   "execution_count": 28,
   "id": "e5aca104",
   "metadata": {},
   "outputs": [
    {
     "name": "stdout",
     "output_type": "stream",
     "text": [
      "[[10 10 10]\n",
      " [10 10 10]\n",
      " [10 10 10]]\n"
     ]
    }
   ],
   "source": [
    "#4\n",
    "import numpy as np\n",
    "A=np.array([[1,2,3],[4,5,6],[7,8,9]])\n",
    "B=np.array([[9,8,7],[6,5,4],[3,2,1]])\n",
    "C=A+B\n",
    "print(C)"
   ]
  },
  {
   "cell_type": "code",
   "execution_count": 48,
   "id": "b57b7179",
   "metadata": {},
   "outputs": [
    {
     "name": "stdout",
     "output_type": "stream",
     "text": [
      "mean1  2.0      mean2  5.0      mean3  8.0\n"
     ]
    }
   ],
   "source": [
    "#5\n",
    "import numpy as np\n",
    "A=np.array([[1,2,3],[4,5,6],[7,8,9]])\n",
    "B=A[0,:];C=A[1,:];D=A[2,:]\n",
    "b=np.mean(B);c=np.mean(C);d=np.mean(D)\n",
    "print(\"mean1 \",b,\"    \",\"mean2 \",c,\"    \",\"mean3 \",d)"
   ]
  },
  {
   "cell_type": "code",
   "execution_count": null,
   "id": "2e8df4d2",
   "metadata": {},
   "outputs": [],
   "source": []
  }
 ],
 "metadata": {
  "kernelspec": {
   "display_name": "Python 3",
   "language": "python",
   "name": "python3"
  },
  "language_info": {
   "codemirror_mode": {
    "name": "ipython",
    "version": 3
   },
   "file_extension": ".py",
   "mimetype": "text/x-python",
   "name": "python",
   "nbconvert_exporter": "python",
   "pygments_lexer": "ipython3",
   "version": "3.8.8"
  }
 },
 "nbformat": 4,
 "nbformat_minor": 5
}
